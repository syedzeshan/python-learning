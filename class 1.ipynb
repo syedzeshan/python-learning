{
 "cells": [
  {
   "cell_type": "markdown",
   "metadata": {},
   "source": [
    "This is our first class of python"
   ]
  },
  {
   "cell_type": "code",
   "execution_count": 2,
   "metadata": {},
   "outputs": [
    {
     "name": "stdout",
     "output_type": "stream",
     "text": [
      "hi\n"
     ]
    }
   ],
   "source": [
    "print(\"hi\")"
   ]
  },
  {
   "cell_type": "markdown",
   "metadata": {},
   "source": [
    "# python"
   ]
  },
  {
   "cell_type": "code",
   "execution_count": 13,
   "metadata": {},
   "outputs": [
    {
     "name": "stdout",
     "output_type": "stream",
     "text": [
      "shani anas\n"
     ]
    }
   ],
   "source": [
    "a= \"shani \"\n",
    "b=\"anas\"\n",
    "print(a +b)"
   ]
  },
  {
   "cell_type": "code",
   "execution_count": 17,
   "metadata": {},
   "outputs": [
    {
     "name": "stdout",
     "output_type": "stream",
     "text": [
      "3.1\n"
     ]
    }
   ],
   "source": [
    "a= 1.0\n",
    "b=2.1\n",
    "print (a+b)"
   ]
  },
  {
   "cell_type": "code",
   "execution_count": 18,
   "metadata": {},
   "outputs": [
    {
     "name": "stdout",
     "output_type": "stream",
     "text": [
      "abc\n"
     ]
    }
   ],
   "source": [
    "print ('abc')"
   ]
  },
  {
   "cell_type": "code",
   "execution_count": 22,
   "metadata": {},
   "outputs": [
    {
     "name": "stdout",
     "output_type": "stream",
     "text": [
      "'a,b'\n"
     ]
    }
   ],
   "source": [
    "print(\"'a,b'\")"
   ]
  },
  {
   "cell_type": "code",
   "execution_count": 30,
   "metadata": {},
   "outputs": [
    {
     "name": "stdout",
     "output_type": "stream",
     "text": [
      "a 1,a 2\n"
     ]
    }
   ],
   "source": [
    "print('a 1,a 2')"
   ]
  },
  {
   "cell_type": "code",
   "execution_count": 1,
   "metadata": {},
   "outputs": [
    {
     "name": "stdout",
     "output_type": "stream",
     "text": [
      "syed zeshan,anas baig\n"
     ]
    }
   ],
   "source": [
    "print('syed zeshan,anas baig')"
   ]
  },
  {
   "cell_type": "code",
   "execution_count": 3,
   "metadata": {},
   "outputs": [
    {
     "name": "stdout",
     "output_type": "stream",
     "text": [
      "enter number2\n",
      "enter number3\n",
      "2 3\n"
     ]
    }
   ],
   "source": [
    "no1 =input(\"enter number\")\n",
    "no2 =input(\"enter number\")\n",
    "print (no1 , no2)"
   ]
  },
  {
   "cell_type": "code",
   "execution_count": 11,
   "metadata": {},
   "outputs": [
    {
     "name": "stdout",
     "output_type": "stream",
     "text": [
      "n19\n",
      "n29\n",
      "18\n"
     ]
    }
   ],
   "source": [
    "n1=input(\"n1\")\n",
    "n2=input(\"n2\")\n",
    "n3 = int (n1) + int (n2)\n",
    "print (n3)"
   ]
  },
  {
   "cell_type": "code",
   "execution_count": 15,
   "metadata": {},
   "outputs": [
    {
     "name": "stdout",
     "output_type": "stream",
     "text": [
      "n18\n",
      "n22\n",
      "16\n"
     ]
    }
   ],
   "source": [
    "n1=int(input(\"n1\"))\n",
    "n2=int(input(\"n2\"))\n",
    "print(n1*n2)"
   ]
  },
  {
   "cell_type": "code",
   "execution_count": 17,
   "metadata": {},
   "outputs": [
    {
     "data": {
      "text/plain": [
       "1"
      ]
     },
     "execution_count": 17,
     "metadata": {},
     "output_type": "execute_result"
    }
   ],
   "source": [
    "#modulo\n",
    "whats_left_over=9%2\n",
    "whats_left_over"
   ]
  },
  {
   "cell_type": "code",
   "execution_count": 19,
   "metadata": {},
   "outputs": [
    {
     "name": "stdout",
     "output_type": "stream",
     "text": [
      "3\n"
     ]
    }
   ],
   "source": [
    "#convert division in intiger use //\n",
    "#division by default gives float\n",
    "a=15\n",
    "b=4\n",
    "c=a//b\n",
    "print (c)"
   ]
  },
  {
   "cell_type": "code",
   "execution_count": 20,
   "metadata": {},
   "outputs": [
    {
     "name": "stdout",
     "output_type": "stream",
     "text": [
      "3.75\n"
     ]
    }
   ],
   "source": [
    "a=15\n",
    "b=4\n",
    "c=a/b\n",
    "print (c)"
   ]
  },
  {
   "cell_type": "code",
   "execution_count": 21,
   "metadata": {},
   "outputs": [
    {
     "data": {
      "text/plain": [
       "32"
      ]
     },
     "execution_count": 21,
     "metadata": {},
     "output_type": "execute_result"
    }
   ],
   "source": [
    "#power \n",
    "2**5"
   ]
  },
  {
   "cell_type": "code",
   "execution_count": 24,
   "metadata": {},
   "outputs": [
    {
     "data": {
      "text/plain": [
       "13"
      ]
     },
     "execution_count": 24,
     "metadata": {},
     "output_type": "execute_result"
    }
   ],
   "source": [
    "total_cost= 1+(3*4)\n",
    "total_cost"
   ]
  },
  {
   "cell_type": "code",
   "execution_count": 33,
   "metadata": {},
   "outputs": [
    {
     "data": {
      "text/plain": [
       "17.0"
      ]
     },
     "execution_count": 33,
     "metadata": {},
     "output_type": "execute_result"
    }
   ],
   "source": [
    "solve_it = 2+3*5.0\n",
    "solve_it"
   ]
  },
  {
   "cell_type": "code",
   "execution_count": 35,
   "metadata": {},
   "outputs": [
    {
     "data": {
      "text/plain": [
       "17.5"
      ]
     },
     "execution_count": 35,
     "metadata": {},
     "output_type": "execute_result"
    }
   ],
   "source": [
    "solve=1/2+3//3+4**2\n",
    "solve"
   ]
  },
  {
   "cell_type": "code",
   "execution_count": 14,
   "metadata": {},
   "outputs": [
    {
     "name": "stdout",
     "output_type": "stream",
     "text": [
      "yes\n",
      "hello\n",
      "w\n"
     ]
    }
   ],
   "source": [
    "#body starts after : and all lines are indent in its body\n",
    "if 2+2==4:\n",
    "    print(\"yes\")\n",
    "    print(\"hello\")\n",
    "print(\"w\")"
   ]
  },
  {
   "cell_type": "code",
   "execution_count": 5,
   "metadata": {},
   "outputs": [
    {
     "name": "stdout",
     "output_type": "stream",
     "text": [
      "enter a number:8\n",
      "8 is even\n"
     ]
    }
   ],
   "source": [
    "num = int(input(\"enter a number:\"));\n",
    "if (num%2==0):\n",
    "    print(str(num) + \" is even\");\n",
    "else:\n",
    "    print(str(num) + \" is odd\");"
   ]
  },
  {
   "cell_type": "code",
   "execution_count": 16,
   "metadata": {},
   "outputs": [
    {
     "name": "stdout",
     "output_type": "stream",
     "text": [
      "enter a number:9\n",
      "9  is odd\n"
     ]
    }
   ],
   "source": [
    "num = int(input(\"enter a number:\"));\n",
    "if (num%2==0):\n",
    "    print(num, \" is even\");\n",
    "else:\n",
    "    print(num,  \" is odd\");"
   ]
  },
  {
   "cell_type": "code",
   "execution_count": 20,
   "metadata": {},
   "outputs": [
    {
     "name": "stdout",
     "output_type": "stream",
     "text": [
      "english98\n",
      "maths99\n",
      "urdu93\n",
      "physics98\n",
      "chemistry96\n",
      "96.8\n",
      "A1\n"
     ]
    }
   ],
   "source": [
    "total_marks=500\n",
    "\n",
    "english= int(input (\"english\"));\n",
    "maths= int (input (\"maths\"));\n",
    "urdu= int(input (\"urdu\"));\n",
    "physics =int(input (\"physics\"));\n",
    "chemistry=int( input (\"chemistry\"));\n",
    "\n",
    "\n",
    "percentage = ((english+maths+chemistry+urdu+physics)/500)*100\n",
    "\n",
    "print (percentage)\n",
    "\n",
    "if (percentage >=90 and percentage <100):\n",
    "    print(\"A1\")\n",
    "elif (percentage >=80 and percentage <90):\n",
    "    print(\"A\")\n",
    "elif (percentage >=70 and percentage <80):\n",
    "    print(\"B\")\n",
    "elif (percentage >=60 and percentage <70):\n",
    "    print(\"C\")\n",
    "elif (percentage >=50 and percentage <60):\n",
    "    print(\"D\")"
   ]
  },
  {
   "cell_type": "code",
   "execution_count": 24,
   "metadata": {},
   "outputs": [
    {
     "name": "stdout",
     "output_type": "stream",
     "text": [
      "yes/nono\n",
      "yes/nono\n",
      "you are not eligible\n"
     ]
    }
   ],
   "source": [
    "cnic = input(\"yes/no\")\n",
    "voter_list = input(\"yes/no\")\n",
    "if cnic == \"yes\" and voter_list==\"yes\":\n",
    "    print(\"you can cast the vote\")\n",
    "else:\n",
    "    print(\"you are not eligible\")"
   ]
  },
  {
   "cell_type": "code",
   "execution_count": 26,
   "metadata": {
    "scrolled": true
   },
   "outputs": [
    {
     "name": "stdout",
     "output_type": "stream",
     "text": [
      "y/nn\n",
      "y/nn\n",
      "y/ny\n",
      "bad luck\n"
     ]
    }
   ],
   "source": [
    "sunday= input(\"y/n\")\n",
    "ticket =input(\"y/n\")\n",
    "wife_Allow = input(\"y/n\")\n",
    "\n",
    "if sunday==\"y\" and ticket==\"y\" and wife_Allow==\"y\":\n",
    "    print(\"you are lucky\")\n",
    "else:\n",
    "    print(\"bad luck\")"
   ]
  },
  {
   "cell_type": "markdown",
   "metadata": {},
   "source": [
    "#          #LIST/ARRAY\n",
    "    \n",
    "    \n",
    "       \n",
    "    "
   ]
  },
  {
   "cell_type": "code",
   "execution_count": 29,
   "metadata": {},
   "outputs": [
    {
     "name": "stdout",
     "output_type": "stream",
     "text": [
      "['abc', 123, 'xyz']\n"
     ]
    }
   ],
   "source": [
    "my_fav_dishes=[]\n",
    "my_fav_cars=[\"audi\" , \"mehran\" , \"nisan\" , \"alto\"]\n",
    "mix_list=[\"abc\" , 123 , \"xyz\"]\n",
    "# in list we can store multi data types\n",
    "print ( mix_list)"
   ]
  },
  {
   "cell_type": "code",
   "execution_count": 31,
   "metadata": {},
   "outputs": [
    {
     "name": "stdout",
     "output_type": "stream",
     "text": [
      "welcom to lhr\n"
     ]
    }
   ],
   "source": [
    "city_1 = \"khi\"\n",
    "city_2 = \"lhr\"\n",
    "city_3 = \"isb\"\n",
    "print (\"welcom to \" + city_2)"
   ]
  },
  {
   "cell_type": "code",
   "execution_count": 50,
   "metadata": {},
   "outputs": [
    {
     "name": "stdout",
     "output_type": "stream",
     "text": [
      "anus\n",
      "bagguu\n",
      "abw\n",
      "tt\n",
      "sheikhu\n"
     ]
    },
    {
     "data": {
      "text/plain": [
       "False"
      ]
     },
     "execution_count": 50,
     "metadata": {},
     "output_type": "execute_result"
    }
   ],
   "source": [
    "frnd = [\"anus\" , \"uu\" , \"honey\"];\n",
    "print( frnd[0]);\n",
    "frnd.append('bagguu');\n",
    "print(frnd[3]);\n",
    "frnd = frnd+['tt'] + ['abw'];\n",
    "print(frnd[5]);\n",
    "print(frnd[4]);\n",
    "frnd.insert(0, 'sheikhu');\n",
    "print(frnd[0]);\n",
    "del frnd[6];\n",
    "len (frnd)\n",
    "\"tt\" in frnd\n",
    "\n",
    "#frnd\n",
    "#frnd.sort()"
   ]
  },
  {
   "cell_type": "code",
   "execution_count": 51,
   "metadata": {},
   "outputs": [
    {
     "data": {
      "text/plain": [
       "False"
      ]
     },
     "execution_count": 51,
     "metadata": {},
     "output_type": "execute_result"
    }
   ],
   "source": [
    "\"samu\" in frnd"
   ]
  },
  {
   "cell_type": "code",
   "execution_count": 52,
   "metadata": {},
   "outputs": [
    {
     "data": {
      "text/plain": [
       "['sheikhu', 'anus', 'uu', 'honey', 'bagguu', 'tt']"
      ]
     },
     "execution_count": 52,
     "metadata": {},
     "output_type": "execute_result"
    }
   ],
   "source": [
    "frnd"
   ]
  },
  {
   "cell_type": "code",
   "execution_count": 55,
   "metadata": {},
   "outputs": [
    {
     "data": {
      "text/plain": [
       "['anus', 'bagguu', 'honey', 'sheikhu', 'tt', 'uu']"
      ]
     },
     "execution_count": 55,
     "metadata": {},
     "output_type": "execute_result"
    }
   ],
   "source": [
    "frnd.sort()\n",
    "frnd"
   ]
  },
  {
   "cell_type": "code",
   "execution_count": 65,
   "metadata": {},
   "outputs": [
    {
     "data": {
      "text/plain": [
       "['uu', 'tt', 'sheikhu', 'honey', 'bagguu', 'anus']"
      ]
     },
     "execution_count": 65,
     "metadata": {},
     "output_type": "execute_result"
    }
   ],
   "source": [
    "frnd.sort(reverse=1)\n",
    "frnd"
   ]
  },
  {
   "cell_type": "code",
   "execution_count": 67,
   "metadata": {},
   "outputs": [
    {
     "data": {
      "text/plain": [
       "['qq', 'tt', 'sheikhu', 'honey', 'bagguu', 'anus']"
      ]
     },
     "execution_count": 67,
     "metadata": {},
     "output_type": "execute_result"
    }
   ],
   "source": [
    "frnd[0]=\"qq\"\n",
    "frnd"
   ]
  },
  {
   "cell_type": "code",
   "execution_count": 68,
   "metadata": {},
   "outputs": [
    {
     "data": {
      "text/plain": [
       "'sheikhu'"
      ]
     },
     "execution_count": 68,
     "metadata": {},
     "output_type": "execute_result"
    }
   ],
   "source": [
    "frnd.pop(2)"
   ]
  },
  {
   "cell_type": "code",
   "execution_count": 74,
   "metadata": {},
   "outputs": [
    {
     "data": {
      "text/plain": [
       "['tt', 'honey', 'bagguu', 'anus']"
      ]
     },
     "execution_count": 74,
     "metadata": {},
     "output_type": "execute_result"
    }
   ],
   "source": [
    "\n",
    "frnd"
   ]
  },
  {
   "cell_type": "code",
   "execution_count": 7,
   "metadata": {},
   "outputs": [],
   "source": [
    "ek_list = [\"sir nasir\" , \"shahzad\"]\n"
   ]
  },
  {
   "cell_type": "code",
   "execution_count": 10,
   "metadata": {},
   "outputs": [
    {
     "data": {
      "text/plain": [
       "['sir nasir', 'ali', 'ali', 'ali', 'shahzad']"
      ]
     },
     "execution_count": 10,
     "metadata": {},
     "output_type": "execute_result"
    }
   ],
   "source": [
    "ek_list.insert(1, \"ali\")\n",
    "ek_list"
   ]
  },
  {
   "cell_type": "code",
   "execution_count": 18,
   "metadata": {},
   "outputs": [
    {
     "data": {
      "text/plain": [
       "['sir nasir',\n",
       " 'ali',\n",
       " 'ali',\n",
       " 'ali',\n",
       " 'shahzad',\n",
       " ['a ', 2, True, ['c ', 'b']],\n",
       " ['a ', 2, True, ['c ', 'b']]]"
      ]
     },
     "execution_count": 18,
     "metadata": {},
     "output_type": "execute_result"
    }
   ],
   "source": [
    "ek_list.append([\"a \" , 2 , True , [\"c \" , \"b\"]])\n",
    "ek_list"
   ]
  },
  {
   "cell_type": "code",
   "execution_count": 21,
   "metadata": {},
   "outputs": [
    {
     "data": {
      "text/plain": [
       "True"
      ]
     },
     "execution_count": 21,
     "metadata": {},
     "output_type": "execute_result"
    }
   ],
   "source": [
    "ek_list[5][2]"
   ]
  },
  {
   "cell_type": "code",
   "execution_count": null,
   "metadata": {},
   "outputs": [],
   "source": []
  }
 ],
 "metadata": {
  "kernelspec": {
   "display_name": "Python 3",
   "language": "python",
   "name": "python3"
  },
  "language_info": {
   "codemirror_mode": {
    "name": "ipython",
    "version": 3
   },
   "file_extension": ".py",
   "mimetype": "text/x-python",
   "name": "python",
   "nbconvert_exporter": "python",
   "pygments_lexer": "ipython3",
   "version": "3.7.1"
  }
 },
 "nbformat": 4,
 "nbformat_minor": 2
}
